{
 "cells": [
  {
   "cell_type": "code",
   "execution_count": 4,
   "id": "4db57b82",
   "metadata": {},
   "outputs": [
    {
     "name": "stdout",
     "output_type": "stream",
     "text": [
      "true exit 0 \n"
     ]
    }
   ],
   "source": [
    "os.execute(\"code ../Solar2D/main.lua\")"
   ]
  },
  {
   "cell_type": "code",
   "execution_count": 2,
   "id": "29975071",
   "metadata": {},
   "outputs": [],
   "source": [
    "book = \"book\"\n",
    "os.execute(\"code ../Solar2D/App/\"..book..\"/index.lua\")"
   ]
  },
  {
   "cell_type": "code",
   "execution_count": 6,
   "id": "e5c74c7f-379a-4c34-9c1f-de24a7c26a67",
   "metadata": {},
   "outputs": [],
   "source": [
    "package.cpath=package.cpath .. ';/Users/ymmtny/.luarocks/lib/lua/5.4/?.so'\n",
    "-- get user input\n",
    "--the_input = io.read()"
   ]
  },
  {
   "cell_type": "code",
   "execution_count": 7,
   "id": "7149da12",
   "metadata": {},
   "outputs": [],
   "source": [
    "lfs = require(\"lfs\")\n",
    "--\n",
    "local function list(_test)\n",
    "  local test = _test or lfs.currentdir()\n",
    "  lfs.chdir(test)\n",
    "  print(test)\n",
    "  for file in lfs.dir(test) do\n",
    "      if lfs.attributes(file,\"mode\") == \"file\" then print(\"found file, \"..file)\n",
    "      elseif lfs.attributes(file,\"mode\")== \"directory\" then print(\"found dir, \"..file,\" containing:\")\n",
    "          for l in lfs.dir(file) do\n",
    "              print(\"\",l)\n",
    "          end\n",
    "      end\n",
    "  end\n",
    "end\n",
    "\n",
    "--list(test..\"/extlib/\")"
   ]
  },
  {
   "cell_type": "code",
   "execution_count": null,
   "id": "a3d5ea54",
   "metadata": {},
   "outputs": [],
   "source": []
  },
  {
   "cell_type": "code",
   "execution_count": 5,
   "id": "28de5f86-db89-4027-9291-d3d5502e7539",
   "metadata": {},
   "outputs": [],
   "source": [
    "package.loaded[\"./copy_action\"] = nil\n",
    "script = require(\"./copy_action\")\n",
    "\n",
    "script:init(\"book\", \"page12\")\n",
    "\n",
    "action = \"brushBlack\"\n",
    "word   = \"0,0,0,1\"\n",
    "\n",
    "-- new action events to be created\n",
    "actions = {\"brushWhite\", \"brushYellow\", \"brushLightBlue\", \"brushBlue\", \"brushPink\", \"brushGreen\"}\n",
    "-- replace word for words[i]\n",
    "words = {\n",
    "  \"1,1,1,1\",\n",
    "  \"1,1,0,1\",\n",
    "  \"150/255,200/255,0,1\",\n",
    "  \"1,0,0,1\",\n",
    "  \"0,0,0,1\",\n",
    "  \"1,0,1,1\",\n",
    "  \"0,1,0,1\"\n",
    "}\n",
    "script:setSource(action, word)\n",
    "script:setNewActions(actions, words)\n",
    "\n",
    "--script:createFiles()\n",
    "--script:updateIndex()\n"
   ]
  }
 ],
 "metadata": {
  "kernelspec": {
   "display_name": "Lua  (XLua)",
   "language": "lua",
   "name": "xlua"
  },
  "language_info": {
   "file_extension": ".lua",
   "mimetype": "text/x-luasrc",
   "name": "lua",
   "version": "14.0.0"
  }
 },
 "nbformat": 4,
 "nbformat_minor": 5
}
