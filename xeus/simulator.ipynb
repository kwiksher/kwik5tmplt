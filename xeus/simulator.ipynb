{
 "cells": [
  {
   "cell_type": "code",
   "execution_count": 1,
   "metadata": {},
   "outputs": [],
   "source": [
    "cmd = '\"/Applications/Corona/Corona Simulator.app/Contents/MacOS/Corona Simulator\" ../Solar2D -no-console YES > ../tmp.log & code ../tmp.log'\n",
    "os.execute(cmd)"
   ]
  },
  {
   "cell_type": "markdown",
   "metadata": {},
   "source": []
  },
  {
   "cell_type": "code",
   "execution_count": null,
   "metadata": {},
   "outputs": [],
   "source": [
    "os.execute(\"cd ..; source undo_lua.command\")"
   ]
  },
  {
   "cell_type": "markdown",
   "metadata": {},
   "source": [
    "## add book"
   ]
  },
  {
   "cell_type": "markdown",
   "metadata": {},
   "source": [
    "## add pages\n",
    "kwik\n",
    "- New shape in component view\n",
    "- Copy & Paste a page (TODO) "
   ]
  },
  {
   "cell_type": "code",
   "execution_count": 1,
   "metadata": {},
   "outputs": [
    {
     "ename": "[string \"-- TODO add page, append the pages to App/boo...\"]:9: attempt to index a boolean value (local 'M')",
     "evalue": "[string \"-- TODO add page, append the pages to App/boo...\"]:9: attempt to index a boolean value (local 'M')",
     "output_type": "error",
     "traceback": [
      "[string \"-- TODO add page, append the pages to App/boo...\"]:9: attempt to index a boolean value (local 'M')"
     ]
    }
   ],
   "source": [
    "-- TODO add page, append the pages to App/bookX/index.lua\n",
    "--\n",
    "package.cpath=package.cpath .. ';/Users/ymmtny/.luarocks/lib/lua/5.4/?.so'\n",
    "local M = require(\"./create_page\")\n",
    "--\n",
    "local book = \"hub\"\n",
    "local pages = {\"cafe\", \"collection\", \"inventory\", \"members\", \"mission\", \"party\", \"quest\", \"recruit\", \"shop\"}\n",
    "--\n",
    "M.run(book, pages)"
   ]
  },
  {
   "cell_type": "markdown",
   "metadata": {},
   "source": [
    "## add layers"
   ]
  },
  {
   "cell_type": "code",
   "execution_count": null,
   "metadata": {},
   "outputs": [],
   "source": [
    "-- TODO tools/generate_scene_index, modify to scafold layers/*.lua and append them to components/pageX/index.lua\n",
    "--\n",
    "local sample = {\n",
    "\n",
    "  scenes = {\n",
    "    --   {folder = \"editor\", alias = \"page\"}, -- alias .. index can be used for using Kwik4 scheme, p1,p2 ...\n",
    "    {folder = \"editor\", alias = \"page\"} -- change the order of this scenes table for the page order\n",
    "    -- the page number is updated in each xxx.lua in scenes folder\n",
    "  },\n",
    "  model = {\n",
    "    name = \"\",\n",
    "    -- pageNum = 1, this will be set in ApplicationContext\n",
    "    layers = {\n",
    "        { bg = {} },\n",
    "    },\n",
    "    events = {}\n",
    "  }\n",
    "}\n"
   ]
  },
  {
   "cell_type": "markdown",
   "metadata": {},
   "source": [
    "## add auido\n",
    "- short\n",
    "- long"
   ]
  },
  {
   "cell_type": "code",
   "execution_count": null,
   "metadata": {},
   "outputs": [],
   "source": [
    "-- kwik editor GUI, does mutli selections in asset list work for creating audio?\n",
    "local sample ={\n",
    "  page=\"page12\",\n",
    "  short = {\"audio1\", \"audio2\"},\n",
    "  long =  {\"bgm1\", \"bgm2\"}\n",
    "}"
   ]
  },
  {
   "cell_type": "markdown",
   "metadata": {},
   "source": [
    "## add spritesheet"
   ]
  },
  {
   "cell_type": "code",
   "execution_count": null,
   "metadata": {},
   "outputs": [],
   "source": [
    "helper.selectLayer(\"starfish\")\n",
    "helper.clickProp(classProps.objs, \"_filename\")\n",
    "helper.clickAsset(assetTable.objs, \"sprites/SpriteTiles/sprites.png\")\n",
    "helper.setProp(classProps.objs, \"numFrames\", 64)\n",
    "-- this calculates w, h of sprite\n",
    "local obj = helper.getObj(listbox.objs, \"default\")\n",
    "helper.setProp(listPropsTable.objs, \"start\", (rnd * 4) - 3)\n",
    "helper.setProp(listPropsTable.objs, \"count\", 4)\n",
    "helper.setProp(listPropsTable.objs, \"time\", 600)\n",
    "helper.setProp(listPropsTable.objs, \"loopCount\", \"\")\n",
    "\n",
    "helper.setProp(listPropsTable.objs, \"name\", \"tile_\" .. rnd)\n",
    "\n"
   ]
  }
 ],
 "metadata": {
  "kernelspec": {
   "display_name": "Lua  (XLua)",
   "language": "lua",
   "name": "xlua"
  },
  "language_info": {
   "file_extension": ".lua",
   "mimetype": "text/x-luasrc",
   "name": "lua",
   "version": "14.0.0"
  }
 },
 "nbformat": 4,
 "nbformat_minor": 4
}
