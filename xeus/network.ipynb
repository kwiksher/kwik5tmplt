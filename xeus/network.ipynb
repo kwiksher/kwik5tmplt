{
 "cells": [
  {
   "cell_type": "code",
   "execution_count": 1,
   "metadata": {},
   "outputs": [],
   "source": [
    "cmd = '\"/Applications/Corona/Corona Simulator.app/Contents/MacOS/Corona Simulator\" ../Solar2D -no-console YES > ../tmp.log & code ../tmp.log'\n",
    "os.execute(cmd)"
   ]
  },
  {
   "cell_type": "code",
   "execution_count": 1,
   "metadata": {},
   "outputs": [],
   "source": [
    "package.loaded[\"./hprint_ini\"] = nil\n",
    "require(\"./hprint_ini\")"
   ]
  },
  {
   "cell_type": "code",
   "execution_count": 22,
   "metadata": {},
   "outputs": [
    {
     "name": "stdout",
     "output_type": "stream",
     "text": [
      "Response: null\n"
     ]
    }
   ],
   "source": [
    "local unitTest = \"editor.tests.suite_page12_canvas\"\n",
    "g_data = {}\n",
    "g_data.editor = require(\"editor.index\")\n",
    "g_data.mod = require(unitTest)\n",
    "helper = require(\"editor.tests.helper\")\n",
    "actionTable = require(\"editor.action.actionTable\")\n",
    "\n",
    "--g_data.editor:runTest()\n"
   ]
  },
  {
   "cell_type": "code",
   "execution_count": 27,
   "metadata": {},
   "outputs": [
    {
     "name": "stdout",
     "output_type": "stream",
     "text": [
      "Response: null\n"
     ]
    }
   ],
   "source": [
    "g_data.mod.test = function()\n",
    "  helper.selectIcon(\"action\")\n",
    "  helper.clickAction(\"undo\")\n",
    "  actionTable.editButton:tap()\n",
    "  helper.selectActionGroup(\"Interactions\")\n",
    "  helper.selectActionCommand(\"canvas\", \"redo\")\n",
    "end\n",
    "\n",
    "g_data.editor:runTest()\n"
   ]
  },
  {
   "cell_type": "code",
   "execution_count": 30,
   "metadata": {},
   "outputs": [
    {
     "name": "stdout",
     "output_type": "stream",
     "text": [
      "Response: null\n"
     ]
    }
   ],
   "source": [
    "g_data.mod.test = function()\n",
    "  helper.selectIcon(\"action\")\n",
    "  if helper.hasObj(actionTable, \"brushBlack\") then\n",
    "    helper.clickAction(\"brushBlack\")\n",
    "    actionTable.editButton:tap()\n",
    "    helper.selectActionGroup(\"Controls\")\n",
    "    helper.selectActionCommand(\"externalcode\", \"code\")\n",
    "  end\n",
    "end\n",
    "\n",
    "g_data.editor:runTest()\n"
   ]
  },
  {
   "cell_type": "code",
   "execution_count": 10,
   "metadata": {},
   "outputs": [
    {
     "name": "stdout",
     "output_type": "stream",
     "text": [
      "Response: null\n"
     ]
    }
   ],
   "source": [
    "g_data.mod.test = function()\n",
    "  helper.clickButton(\"cancel\",  \"actionCommandButtons\")\n",
    "end\n",
    "\n",
    "g_data.editor:runTest()"
   ]
  },
  {
   "cell_type": "code",
   "execution_count": 28,
   "metadata": {},
   "outputs": [
    {
     "name": "stdout",
     "output_type": "stream",
     "text": [
      "Response: null\n"
     ]
    }
   ],
   "source": [
    "g_data.mod.test = function()\n",
    "  helper.clickButton(\"cancel\")\n",
    "end\n",
    "\n",
    "g_data.editor:runTest()\n"
   ]
  },
  {
   "cell_type": "markdown",
   "metadata": {},
   "source": [
    "https://gist.github.com/superqix/8567dc7b3711c3b8cd23c8283be9f65b\n",
    "https://discord.com/channels/721785436195782677/753687107511386242/1203357052035014747\n",
    "An introduction to Shader Art Coding\n",
    "- https://www.youtube.com/watch?v=f4s1h2YETNY"
   ]
  },
  {
   "cell_type": "markdown",
   "metadata": {},
   "source": []
  }
 ],
 "metadata": {
  "kernelspec": {
   "display_name": "Lua  (XLua)",
   "language": "lua",
   "name": "xlua"
  },
  "language_info": {
   "file_extension": ".lua",
   "mimetype": "text/x-luasrc",
   "name": "lua",
   "version": "14.0.0"
  }
 },
 "nbformat": 4,
 "nbformat_minor": 4
}
